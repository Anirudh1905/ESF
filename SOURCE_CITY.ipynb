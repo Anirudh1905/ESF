{
  "nbformat": 4,
  "nbformat_minor": 0,
  "metadata": {
    "colab": {
      "name": "SOURCE_CITY.ipynb",
      "provenance": [],
      "collapsed_sections": [],
      "mount_file_id": "1PpWp9sjnBkvas7NHfolGhEhv77BNHh7s",
      "authorship_tag": "ABX9TyOPFGKbszjGsLaI+m4XMbiM",
      "include_colab_link": true
    },
    "kernelspec": {
      "name": "python3",
      "display_name": "Python 3"
    }
  },
  "cells": [
    {
      "cell_type": "markdown",
      "metadata": {
        "id": "view-in-github",
        "colab_type": "text"
      },
      "source": [
        "<a href=\"https://colab.research.google.com/github/Anirudh1905/ESF/blob/master/SOURCE_CITY.ipynb\" target=\"_parent\"><img src=\"https://colab.research.google.com/assets/colab-badge.svg\" alt=\"Open In Colab\"/></a>"
      ]
    },
    {
      "cell_type": "code",
      "metadata": {
        "id": "HWKL9W0ew6Xj",
        "colab_type": "code",
        "colab": {}
      },
      "source": [
        "import pandas as pd"
      ],
      "execution_count": null,
      "outputs": []
    },
    {
      "cell_type": "code",
      "metadata": {
        "id": "ZanLq50Q97jv",
        "colab_type": "code",
        "colab": {
          "base_uri": "https://localhost:8080/",
          "height": 34
        },
        "outputId": "105db3c6-3419-494a-ea8a-5cd8f7466659"
      },
      "source": [
        "!pip install fuzzywuzzy"
      ],
      "execution_count": null,
      "outputs": [
        {
          "output_type": "stream",
          "text": [
            "Requirement already satisfied: fuzzywuzzy in /usr/local/lib/python3.6/dist-packages (0.18.0)\n"
          ],
          "name": "stdout"
        }
      ]
    },
    {
      "cell_type": "code",
      "metadata": {
        "id": "9L9Gb2fIxCtQ",
        "colab_type": "code",
        "colab": {
          "base_uri": "https://localhost:8080/",
          "height": 34
        },
        "outputId": "bfa52176-508c-4244-9296-dcf77b1ffb7f"
      },
      "source": [
        "dg=pd.read_excel('/content/drive/My Drive/COVID Basti CONFIDENTIAL/2 Incoming Datasets/After Step 9/2_clean_Ramnagar_06-05_29-05.xlsx')\n",
        "dg['source_city'].nunique()"
      ],
      "execution_count": null,
      "outputs": [
        {
          "output_type": "execute_result",
          "data": {
            "text/plain": [
              "191"
            ]
          },
          "metadata": {
            "tags": []
          },
          "execution_count": 9
        }
      ]
    },
    {
      "cell_type": "code",
      "metadata": {
        "id": "phw1hT0rHm03",
        "colab_type": "code",
        "colab": {
          "base_uri": "https://localhost:8080/",
          "height": 34
        },
        "outputId": "96aeb0c5-9b0f-47f3-a1aa-55c5afb19514"
      },
      "source": [
        "df1=pd.read_excel('/content/1.xlsx')\n",
        "a=df1['unclean_source_city'].tolist()\n",
        "b=df1['source_city'].tolist()\n",
        "dg.replace(a,b,inplace=True)\n",
        "dg['source_city'].nunique()"
      ],
      "execution_count": null,
      "outputs": [
        {
          "output_type": "execute_result",
          "data": {
            "text/plain": [
              "129"
            ]
          },
          "metadata": {
            "tags": []
          },
          "execution_count": 10
        }
      ]
    },
    {
      "cell_type": "code",
      "metadata": {
        "id": "3HijJRzSEbfE",
        "colab_type": "code",
        "colab": {
          "base_uri": "https://localhost:8080/",
          "height": 34
        },
        "outputId": "321795ae-c4a8-471e-9ad0-c13b3ed86d35"
      },
      "source": [
        "dg.fillna('unknown',inplace=True)\n",
        "p=['मुम्बई','मुम्बई भिवडी','सूरत','हैदराबाद','तेलंगाना','लुधियाना','हापुड','मुम्बई मानखुर्द एकतानगर','गुजरात गोधरा','थाने','वसई','बसई','अन्धेरी बेस्ट','पुणे','गुजरात','केरल','कानपुर','अहमदाबाद']\n",
        "q=['Mumbai','Bhiwandi','Surat','Hyderabad','Telangana','Ludhiana','Hapur','Ekta Nagar Mankhurd','Godhra','Thane','Vasai','Vasai','Andheri','Pune','Gujarat','Kerala','Kanpur','Ahmedabad']\n",
        "dg.replace(p,q,inplace=True)\n",
        "dg['source_city'].nunique()"
      ],
      "execution_count": null,
      "outputs": [
        {
          "output_type": "execute_result",
          "data": {
            "text/plain": [
              "130"
            ]
          },
          "metadata": {
            "tags": []
          },
          "execution_count": 11
        }
      ]
    },
    {
      "cell_type": "code",
      "metadata": {
        "id": "321DEWMUC8dC",
        "colab_type": "code",
        "colab": {
          "base_uri": "https://localhost:8080/",
          "height": 326
        },
        "outputId": "4ec90f12-7af4-49e8-a3d1-e5bb3aac9789"
      },
      "source": [
        "### Add code or code cells here to clean city list using fuzzy matching if score is more than 60%.\n",
        "### Note you may need to check for मुम्बई  and Mumbai because fuzzy matching cannot work across fonts in hindi and english.\n",
        "from fuzzywuzzy import process\n",
        "\n",
        "df3=pd.read_excel('/content/2.xlsx')\n",
        "y=df3['State Name'].tolist()\n",
        "y=list(set(y))\n",
        "f=0\n",
        "for x in dg['source_city'].values:\n",
        "  if x!='unknown':\n",
        "    t=process.extract(x,y)\n",
        "    for k in t:\n",
        "      if k[1]>60 and f==0:\n",
        "        dg.replace(x,k[0],inplace=True)\n",
        "        f=1\n",
        "    f=0\n",
        "dg.head()"
      ],
      "execution_count": null,
      "outputs": [
        {
          "output_type": "execute_result",
          "data": {
            "text/html": [
              "<div>\n",
              "<style scoped>\n",
              "    .dataframe tbody tr th:only-of-type {\n",
              "        vertical-align: middle;\n",
              "    }\n",
              "\n",
              "    .dataframe tbody tr th {\n",
              "        vertical-align: top;\n",
              "    }\n",
              "\n",
              "    .dataframe thead th {\n",
              "        text-align: right;\n",
              "    }\n",
              "</style>\n",
              "<table border=\"1\" class=\"dataframe\">\n",
              "  <thead>\n",
              "    <tr style=\"text-align: right;\">\n",
              "      <th></th>\n",
              "      <th>sr_no</th>\n",
              "      <th>district</th>\n",
              "      <th>tehsil</th>\n",
              "      <th>block</th>\n",
              "      <th>village</th>\n",
              "      <th>Unnamed: 5</th>\n",
              "      <th>name</th>\n",
              "      <th>Unnamed: 7</th>\n",
              "      <th>relative_name</th>\n",
              "      <th>Unnamed: 9</th>\n",
              "      <th>age</th>\n",
              "      <th>age.1</th>\n",
              "      <th>sex</th>\n",
              "      <th>sex.1</th>\n",
              "      <th>phone_no</th>\n",
              "      <th>id_type</th>\n",
              "      <th>id_type.1</th>\n",
              "      <th>id_no</th>\n",
              "      <th>arrival_date</th>\n",
              "      <th>arrival_date.1</th>\n",
              "      <th>source_city</th>\n",
              "      <th>Unnamed: 21</th>\n",
              "      <th>source_checkup</th>\n",
              "      <th>skills</th>\n",
              "      <th>Unnamed: 24</th>\n",
              "      <th>years_of_exp</th>\n",
              "      <th>Unnamed: 26</th>\n",
              "      <th>other_skills</th>\n",
              "      <th>Unnamed: 28</th>\n",
              "      <th>other_details</th>\n",
              "      <th>Unnamed: 30</th>\n",
              "      <th>comments</th>\n",
              "      <th>Unnamed: 32</th>\n",
              "    </tr>\n",
              "  </thead>\n",
              "  <tbody>\n",
              "    <tr>\n",
              "      <th>0</th>\n",
              "      <td>238</td>\n",
              "      <td>Basti</td>\n",
              "      <td>BHANPUR</td>\n",
              "      <td>RAM NAGAR</td>\n",
              "      <td>HARI HARPUR</td>\n",
              "      <td>HARI HARPUR</td>\n",
              "      <td>SHAKEEL</td>\n",
              "      <td>SHAKEEL</td>\n",
              "      <td>AMIN MOHAMMAD</td>\n",
              "      <td>AMIN MOHAMMAD</td>\n",
              "      <td>29</td>\n",
              "      <td>29</td>\n",
              "      <td>MALE</td>\n",
              "      <td>M</td>\n",
              "      <td>7.27618e+09</td>\n",
              "      <td>AADHAR</td>\n",
              "      <td>Aadhar</td>\n",
              "      <td>827231378180</td>\n",
              "      <td>27/05/2020</td>\n",
              "      <td>27-05-2020</td>\n",
              "      <td>Assam</td>\n",
              "      <td>Assam</td>\n",
              "      <td>Yes</td>\n",
              "      <td>LABOUR</td>\n",
              "      <td>LABOUR</td>\n",
              "      <td>5</td>\n",
              "      <td>5</td>\n",
              "      <td>unknown</td>\n",
              "      <td>unknown</td>\n",
              "      <td>unknown</td>\n",
              "      <td>unknown</td>\n",
              "      <td>unknown</td>\n",
              "      <td>unknown</td>\n",
              "    </tr>\n",
              "    <tr>\n",
              "      <th>1</th>\n",
              "      <td>174</td>\n",
              "      <td>Basti</td>\n",
              "      <td>BHANPUR</td>\n",
              "      <td>RAM NAGAR</td>\n",
              "      <td>PATICHAK</td>\n",
              "      <td>PATICHAK</td>\n",
              "      <td>HEMANT KUMAR</td>\n",
              "      <td>HEMANT KUMAR</td>\n",
              "      <td>CHELUU RAM</td>\n",
              "      <td>CHELUU RAM</td>\n",
              "      <td>39</td>\n",
              "      <td>39</td>\n",
              "      <td>MALE</td>\n",
              "      <td>M</td>\n",
              "      <td>8.73589e+09</td>\n",
              "      <td>AADHAR</td>\n",
              "      <td>Aadhar</td>\n",
              "      <td>508635047600</td>\n",
              "      <td>29/05/2020</td>\n",
              "      <td>29-05-2020</td>\n",
              "      <td>Assam</td>\n",
              "      <td>Assam</td>\n",
              "      <td>Yes</td>\n",
              "      <td>LABOUR</td>\n",
              "      <td>LABOUR</td>\n",
              "      <td>4</td>\n",
              "      <td>4</td>\n",
              "      <td>unknown</td>\n",
              "      <td>unknown</td>\n",
              "      <td>unknown</td>\n",
              "      <td>unknown</td>\n",
              "      <td>unknown</td>\n",
              "      <td>unknown</td>\n",
              "    </tr>\n",
              "    <tr>\n",
              "      <th>2</th>\n",
              "      <td>201</td>\n",
              "      <td>Basti</td>\n",
              "      <td>BHANPUR</td>\n",
              "      <td>RAM NAGAR</td>\n",
              "      <td>CHESA</td>\n",
              "      <td>CHESA</td>\n",
              "      <td>RAM SAJIYAN</td>\n",
              "      <td>RAM SAJIYAN</td>\n",
              "      <td>BADRI PRASAD</td>\n",
              "      <td>BADRI PRASAD</td>\n",
              "      <td>28</td>\n",
              "      <td>28</td>\n",
              "      <td>MALE</td>\n",
              "      <td>M</td>\n",
              "      <td>8.82897e+09</td>\n",
              "      <td>AADHAR</td>\n",
              "      <td>Aadhar</td>\n",
              "      <td>450200663816</td>\n",
              "      <td>28-05-2020</td>\n",
              "      <td>28-05-2020</td>\n",
              "      <td>Kaimur (Bhabua)</td>\n",
              "      <td>Kaimur (Bhabua)</td>\n",
              "      <td>Yes</td>\n",
              "      <td>LABOUR</td>\n",
              "      <td>LABOUR</td>\n",
              "      <td>5 MONTH</td>\n",
              "      <td>5 MONTH</td>\n",
              "      <td>unknown</td>\n",
              "      <td>unknown</td>\n",
              "      <td>unknown</td>\n",
              "      <td>unknown</td>\n",
              "      <td>unknown</td>\n",
              "      <td>unknown</td>\n",
              "    </tr>\n",
              "    <tr>\n",
              "      <th>3</th>\n",
              "      <td>647</td>\n",
              "      <td>Basti</td>\n",
              "      <td>BHANPUR</td>\n",
              "      <td>RAM NAGAR</td>\n",
              "      <td>PARSOHIYA</td>\n",
              "      <td>PARSOHIYA</td>\n",
              "      <td>SATISH</td>\n",
              "      <td>SATISH</td>\n",
              "      <td>SURYA PRAKASH</td>\n",
              "      <td>SURYA PRAKASH</td>\n",
              "      <td>20</td>\n",
              "      <td>20</td>\n",
              "      <td>M</td>\n",
              "      <td>M</td>\n",
              "      <td>7.35546e+09</td>\n",
              "      <td>ADHAR</td>\n",
              "      <td>Aadhar</td>\n",
              "      <td>629188201841</td>\n",
              "      <td>2020-05-09 00:00:00</td>\n",
              "      <td>2020-05-09 00:00:00</td>\n",
              "      <td>Agra</td>\n",
              "      <td>Agra</td>\n",
              "      <td>Yes</td>\n",
              "      <td>FILE MANEGMENT</td>\n",
              "      <td>FILE MANEGMENT</td>\n",
              "      <td>2 Month</td>\n",
              "      <td>2 Month</td>\n",
              "      <td>CINIL ENG</td>\n",
              "      <td>CINIL ENG</td>\n",
              "      <td>GLOBAL ACT</td>\n",
              "      <td>GLOBAL ACT</td>\n",
              "      <td>unknown</td>\n",
              "      <td>unknown</td>\n",
              "    </tr>\n",
              "    <tr>\n",
              "      <th>4</th>\n",
              "      <td>976</td>\n",
              "      <td>Basti</td>\n",
              "      <td>BHANPUR</td>\n",
              "      <td>RAMNAGAR</td>\n",
              "      <td>DEDEEHA MAJHUWA</td>\n",
              "      <td>DEDEEHA MAJHUWA</td>\n",
              "      <td>JOGINDER</td>\n",
              "      <td>JOGINDER</td>\n",
              "      <td>MUNNILAL</td>\n",
              "      <td>MUNNILAL</td>\n",
              "      <td>18</td>\n",
              "      <td>18</td>\n",
              "      <td>MALE</td>\n",
              "      <td>M</td>\n",
              "      <td>unknown</td>\n",
              "      <td>AADHARE</td>\n",
              "      <td>Aadhar</td>\n",
              "      <td>702345134912</td>\n",
              "      <td>2020-07-05 00:00:00</td>\n",
              "      <td>2020-07-05 00:00:00</td>\n",
              "      <td>Ahmedabad</td>\n",
              "      <td>Ahmedabad</td>\n",
              "      <td>YES</td>\n",
              "      <td>BUILDING</td>\n",
              "      <td>BUILDING</td>\n",
              "      <td>5</td>\n",
              "      <td>5</td>\n",
              "      <td>0</td>\n",
              "      <td>0</td>\n",
              "      <td>OTHER</td>\n",
              "      <td>OTHER</td>\n",
              "      <td>unknown</td>\n",
              "      <td>unknown</td>\n",
              "    </tr>\n",
              "  </tbody>\n",
              "</table>\n",
              "</div>"
            ],
            "text/plain": [
              "   sr_no district   tehsil  ... Unnamed: 30 comments Unnamed: 32\n",
              "0    238    Basti  BHANPUR  ...     unknown  unknown     unknown\n",
              "1    174    Basti  BHANPUR  ...     unknown  unknown     unknown\n",
              "2    201    Basti  BHANPUR  ...     unknown  unknown     unknown\n",
              "3    647    Basti  BHANPUR  ...  GLOBAL ACT  unknown     unknown\n",
              "4    976    Basti  BHANPUR  ...       OTHER  unknown     unknown\n",
              "\n",
              "[5 rows x 33 columns]"
            ]
          },
          "metadata": {
            "tags": []
          },
          "execution_count": 12
        }
      ]
    },
    {
      "cell_type": "code",
      "metadata": {
        "id": "19L9tDaqHJGq",
        "colab_type": "code",
        "colab": {
          "base_uri": "https://localhost:8080/",
          "height": 34
        },
        "outputId": "b519e763-80bd-4dcf-bf9e-d1dfe0fc95c6"
      },
      "source": [
        "dg['source_city'].nunique()"
      ],
      "execution_count": null,
      "outputs": [
        {
          "output_type": "execute_result",
          "data": {
            "text/plain": [
              "86"
            ]
          },
          "metadata": {
            "tags": []
          },
          "execution_count": 13
        }
      ]
    },
    {
      "cell_type": "code",
      "metadata": {
        "id": "-c50i6jpKzRL",
        "colab_type": "code",
        "colab": {}
      },
      "source": [
        "dg.to_excel(\"output3.xlsx\")"
      ],
      "execution_count": null,
      "outputs": []
    },
    {
      "cell_type": "code",
      "metadata": {
        "id": "ZTqC9k8Nzm2s",
        "colab_type": "code",
        "colab": {}
      },
      "source": [
        ""
      ],
      "execution_count": null,
      "outputs": []
    }
  ]
}